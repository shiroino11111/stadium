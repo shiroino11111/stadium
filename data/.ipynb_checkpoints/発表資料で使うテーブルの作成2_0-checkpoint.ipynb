{
 "cells": [
  {
   "cell_type": "markdown",
   "metadata": {},
   "source": [
    "このjupyter notebookファイルを参考にMarkDownテーブルの作成をお願いします。  \n",
    "１．ｃｓｖファイル概要：パワポｐ８を参考に３列のテーブル（ファイル名、概要、行列数）  \n",
    "２．最終的に使用した変数：パワポｐ１７を参考に２列のテーブル（変数名、概要）順番も最終的に使われてる順でお願いします。\n"
   ]
  },
  {
   "cell_type": "markdown",
   "metadata": {},
   "source": [
    "各データファイルの詳細    \n",
    "\n",
    "|ファイル名(.csv)|概要|行×列|\n",
    "|:-|:-|:-|\n",
    "|train|モデル学習用試合データ|1,722行×11列|\n",
    "|train_add|モデル学習用試合データの追加データ|233行×11列|\n",
    "|test|モデル検証用試合データ|314行×10列|\n",
    "|2014_add|モデル検証用試合データの追加データ<br>（2014年度後半試合追加データ）|39行×10列|\n",
    "|stadium|スタジアムデータ|60行×3列|\n",
    "|condition|試合詳細データ|2,035行×31列|\n",
    "|condition_add|試合詳細データの追加データ|271行×31列|\n",
    "|sample_submit|応募用サンプルファイル|313行×2列|"
   ]
  },
  {
   "cell_type": "markdown",
   "metadata": {},
   "source": [
    "使用した特徴量\n",
    "\n",
    "| データベースの変数名 |       使用した特徴量       |                                                                                        変数の概要                                                                                        |                                                         作成および削減の理由                                                        |\n",
    "|:--------------------|:--------------------------|:----------------------------------------------------------------------------------------------------------------------------------------------------------------------------------------|:-----------------------------------------------------------------------------------------------------------------------------------|\n",
    "| id                   | ー                         | 対戦カードID                                                                                                                                                                             | idの数字のみでは意味がないと判断したため、vscombi_average（対戦カード別の平均期観客数）に加工した。                                 |\n",
    "| 　                   | vscombi_average            | 対戦カード別の平均観客数                                                                                                                                                                 | 同上                                                                                                                                |\n",
    "| y                    | (目的変数)                 | 観客数                                                                                                                                                                                   | ー                                                                                                                                  |\n",
    "| year                 | ー                         | 開催年度                                                                                                                                                                                 | 特徴量重要度が低いため、削減した。                                                                                                  |\n",
    "| stage                | ー                         | 開催大会                                                                                                                                                                                 | 特徴量重要度が低いため、削減した。                                                                                                  |\n",
    "| match                | ー                         | 開催節                                                                                                                                                                                   |                                                                                                                                     |\n",
    "| 　                   | match_sec                  | 開催節の節のみ                                                                                                                                                                           | 同上                                                                                                                                |\n",
    "| gameday              | ー                         | 試合日                                                                                                                                                                                   | このままではわかりにくいため、月、曜日、祝日か否かの特徴量に加工した。                                                              |\n",
    "| 　                   | month                      | 試合日の月のみ                                                                                                                                                                           | 同上                                                                                                                                |\n",
    "| 　                   | holiday                    | 試合日が祝日か否か                                                                                                                                                                       | 同上                                                                                                                                |\n",
    "| 　                   | weekday                    | 試合日の曜日のみ                                                                                                                                                                         | 同上                                                                                                                                |\n",
    "| time                 | time                       | キックオフ時刻                                                                                                                                                                           | ”時”のみに加工して使用                                                                                                              |\n",
    "| home                 | ー                         | ホームチーム                                                                                                                                                                             | チームの名称のみでは、スタジアムのキャパやその他の相関との切り分けが難しいため、削除した。                                          |\n",
    "| away                 | ー                         | アウェイチーム                                                                                                                                                                           | 同上                                                                                                                                |\n",
    "| stadium              | ー                         | スタジアム                                                                                                                                                                               | スタジアムの名称のみではわかりにくいため、平均観客動員数や、アウェイ/ホーム各チームのホームスタジアムからの距離の特徴量に加工した。 |\n",
    "| 　                   | distance_away              | アウェイチームのホームスタジアムからの距離                                                                                                                                               | 同上                                                                                                                                |\n",
    "| 　                   | distance_home              | ホームチームのホームスタジアムからの距離                                                                                                                                                 | 同上および、ホームチームのホームスタジアムで実施していない試合があったため。                                                        |\n",
    "| 　                   | 5five_class                | ①ホームの試合の動員数平均<br> ②ホームの試合の動員数標準偏差<br> ③ホームの試合の満員率の平均<br> ④ホームの試合の満員率の標準偏差<br> ⑤スタジアム別平均観客動員数<br> の5つの変数を4つにクラスタリングした変数 | 　                                                                                                                                  |\n",
    "| 　                   | studium_average            | 開催スタジアム平均観客動員数                                                                                                                                                             | 　                                                                                                                                  |\n",
    "| tv                   | ー                         | TV放送                                                                                                                                                                                   | 水準数が多かったため（放映チャンネル数と組合せ）BS、CS、digital、localTVに特徴量を加工した。                                        |\n",
    "| 　                   | BS                         | BSで放映した試合                                                                                                                                                                         | 　                                                                                                                                  |\n",
    "| 　                   | CS                         | CSで放映した試合                                                                                                                                                                         | 　                                                                                                                                  |\n",
    "| 　                   | digital                    | 地上波デジタルで放映した試合                                                                                                                                                             | 　                                                                                                                                  |\n",
    "| 　                   | localTV                    | 地方TVで放映した試合                                                                                                                                                                     | 　                                                                                                                                  |\n",
    "| address              | ー                         | 所在地                                                                                                                                                                                   | 　                                                                                                                                  |\n",
    "| capa                 | 　                         | 収容人数                                                                                                                                                                                 | 　                                                                                                                                  |\n",
    "| home_score           | ー                         | ホームチームスコア                                                                                                                                                                       | 　                                                                                                                                  |\n",
    "| away_score           | ー                         | アウェイチームスコア                                                                                                                                                                     | 　                                                                                                                                  |\n",
    "| 　                   | point_5game_average_away   | アウェイチームの直近5試合の勝ち点                                                                                                                                                        | 　                                                                                                                                  |\n",
    "| 　                   | point_5game_average_home   | ホームチームの直近5試合の勝ち点                                                                                                                                                          | 　                                                                                                                                  |\n",
    "| 　                   | point_3game_average_away   | アウェイチームの直近3試合の勝ち点                                                                                                                                                        | 　                                                                                                                                  |\n",
    "| 　                   | point_3game_average_home   | ホームチームの直近3試合の勝ち点                                                                                                                                                          | 　                                                                                                                                  |\n",
    "| weather              | ー                         | 天候                                                                                                                                                                                     | 水準数が多かったため、9つの水準にまとめた。                                                                                         |\n",
    "| 　                   | weather                    | 天候（晴、曇、雨、雪、やや晴、やや雨、やや曇り、やや雪、屋内に仕分け）                                                                                                                   | 同上                                                                                                                                |\n",
    "| temperature          | 　                         | 気温                                                                                                                                                                                     | 　                                                                                                                                  |\n",
    "| humidity             | 　                         | 湿度                                                                                                                                                                                     | 　                                                                                                                                  |\n",
    "| 　                   | THI                        | 不快指数                                                                                                                                                                                 | 　                                                                                                                                  |\n",
    "| referee              | 　                         | 主審                                                                                                                                                                                     | 　                                                                                                                                  |\n",
    "| home_01～11          | 　                         | ホームチーム先発メンバー01～11                                                                                                                                                           | 　                                                                                                                                  |\n",
    "| away_01～11          | 　                         | アウェイチーム先発メンバー01～11                                                                                                                                                         | 　                                                                                                                                  |\n",
    "| 　                   | last_year_income_home      | ホームチームの前年度営業収入                                                                                                                                                             | 　                                                                                                                                  |\n",
    "| 　                   | last_year_income_away      | アウェイチームの前年度営業収入                                                                                                                                                           | 　                                                                                                                                  |\n",
    "| 　                   | last_year_entrancefee_x    | 入場料                                                                                                                                                                                   | 　                                                                                                                                  |\n",
    "| 　                   | last_year_entrancefee_away | アウェイチームの前年度入場料                                                                                                                                                             | 　                                                                                                                                  |\n",
    "| 　                   | last_year_entrancefee_home | ホームチームの前年度入場料                                                                                                                                                               | 　                                                                                                                                  |\n",
    "| 　                   | last_year_Sponsorfee_x     | スポンサー料                                                                                                                                                                             | 　                                                                                                                                  |\n",
    "| 　                   | last_year_Sponsorfee_home  | ホームチームの前年度スポンサー料                                                                                                                                                         | 　                                                                                                                                  |\n",
    "| 　                   | last_year_Sponsorfee_away  | アウェイチームの前年度スポンサー料                                                                                                                                                       | 　                                                                                                                                  |\n",
    "| 　                   | last_year_laborcost_x      | 人件費                                                                                                                                                                                   | 　                                                                                                                                  |\n",
    "| 　                   | last_year_laborcost_home   | ホームチームの前年度人件費                                                                                                                                                               | 　                                                                                                                                  |\n",
    "| 　                   | last_year_laborcost_away   | アウェイチームの前年度人件費                                                                                                                                                             | 　                                                                                                                                  |\n",
    "| 　                   | hometeam_home_avarage      | その試合のホ―ムチームのホームでの平均観客動員数                                                                                                                                          | 　                                                                                                                                  |\n",
    "| 　                   | hometeam_away_avarage      | その試合のホ―ムチームのアウェイでの平均観客動員数                                                                                                                                        | 　                                                                                                                                  |"
   ]
  },
  {
   "cell_type": "markdown",
   "metadata": {},
   "source": []
  },
  {
   "cell_type": "markdown",
   "metadata": {},
   "source": []
  }
 ],
 "metadata": {
  "kernelspec": {
   "display_name": "Python 3",
   "language": "python",
   "name": "python3"
  },
  "language_info": {
   "codemirror_mode": {
    "name": "ipython",
    "version": 3
   },
   "file_extension": ".py",
   "mimetype": "text/x-python",
   "name": "python",
   "nbconvert_exporter": "python",
   "pygments_lexer": "ipython3",
   "version": "3.7.3"
  },
  "toc": {
   "base_numbering": 1,
   "nav_menu": {},
   "number_sections": true,
   "sideBar": true,
   "skip_h1_title": false,
   "title_cell": "Table of Contents",
   "title_sidebar": "Contents",
   "toc_cell": false,
   "toc_position": {},
   "toc_section_display": true,
   "toc_window_display": false
  }
 },
 "nbformat": 4,
 "nbformat_minor": 2
}
